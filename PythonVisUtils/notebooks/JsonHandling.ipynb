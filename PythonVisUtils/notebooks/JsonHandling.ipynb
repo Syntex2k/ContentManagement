{
 "cells": [
  {
   "cell_type": "code",
   "execution_count": 19,
   "metadata": {
    "pycharm": {
     "is_executing": false,
     "name": "#%%\n"
    }
   },
   "outputs": [],
   "source": [
    "import jsonlines\n",
    "import json\n",
    "import os"
   ]
  },
  {
   "cell_type": "markdown",
   "metadata": {},
   "source": [
    "# JSON Handling"
   ]
  },
  {
   "cell_type": "markdown",
   "metadata": {},
   "source": [
    "#### Convert Spark's JsonLine format to valid Json\n",
    "Spark creates a special kind of json output: Multiple jsons are just concatted and only seperated by a new line. This is not a valid json and can't be inspected easily. The outer body is missing and the whole structure is not an array. Moreover these files are excessivly big. Therefore we separate these JsonLine files into multiple jsons - one for each block (brackets) within. Having valid jsons allows using tree viewers for inspection."
   ]
  },
  {
   "cell_type": "code",
   "execution_count": 20,
   "metadata": {
    "pycharm": {
     "is_executing": false,
     "name": "#%%\n"
    },
    "scrolled": true
   },
   "outputs": [],
   "source": [
    "# We need to set up the folder where the files to manipulate reside.\n",
    "data_base_path = \"../../data/\"\n",
    "experiment_json_folder = \"indicatorOutput/rawSpark\"\n",
    "raw_jsonline_input_path = os.path.join(data_base_path, experiment_json_folder)"
   ]
  },
  {
   "cell_type": "code",
   "execution_count": 21,
   "metadata": {},
   "outputs": [],
   "source": [
    "# We need another location where to put the results.\n",
    "cleaned_json_folder = \"indicatorOutput/refinedNotebook\"\n",
    "refined_json_output_path = os.path.join(data_base_path, cleaned_json_folder)"
   ]
  },
  {
   "cell_type": "code",
   "execution_count": 22,
   "metadata": {
    "pycharm": {
     "is_executing": false,
     "name": "#%%\n"
    }
   },
   "outputs": [],
   "source": [
    "# Load in spark's JosonLine output files.\n",
    "file_list = []\n",
    "for file in os.listdir(raw_jsonline_input_path):\n",
    "    if file.endswith('.json'):\n",
    "        file_list.append(os.path.join(raw_jsonline_input_path, file))\n",
    "\n",
    "# Write multiple json files.\n",
    "for file in file_list:\n",
    "    with jsonlines.open(file, 'r') as reader:\n",
    "        for item in reader:\n",
    "            file_name = item['paper_id'] + '_p' + str(item['paragraph_index']) + '.json'\n",
    "            with open(os.path.join(refined_json_output_path, file_name), 'w') as outfile:\n",
    "                json.dump(item, outfile) "
   ]
  },
  {
   "cell_type": "markdown",
   "metadata": {},
   "source": [
    "# HTML Conversion"
   ]
  },
  {
   "cell_type": "code",
   "execution_count": 73,
   "metadata": {},
   "outputs": [],
   "source": [
    "# Path to the json files which make up the refined spark output.\n",
    "tagged_json_input_path = refined_json_output_path\n",
    "# Path to the folder where to put the html files.\n",
    "tagged_html_folder = \"indicatorOutput/taggedHtml\"\n",
    "tagged_html_output_path = os.path.join(data_base_path, tagged_html_folder)"
   ]
  },
  {
   "cell_type": "code",
   "execution_count": 74,
   "metadata": {},
   "outputs": [],
   "source": [
    "# Load in the refined json output files.\n",
    "file_list = []\n",
    "for file in os.listdir(tagged_json_input_path):\n",
    "    if file.endswith('.json'):\n",
    "        file_list.append(os.path.join(tagged_json_input_path, file))\n",
    "\n",
    "data = []\n",
    "for file in file_list:\n",
    "    with open(file) as json_file:\n",
    "        data.append(json.load(json_file))      "
   ]
  },
  {
   "cell_type": "code",
   "execution_count": 75,
   "metadata": {},
   "outputs": [],
   "source": [
    "open_tag = '<b>'\n",
    "close_tag = '</b>'\n",
    "open_html_tag = '<html>'\n",
    "close_html_tag = '</html>'\n",
    "open_body_tag = '<body>'\n",
    "close_body_tag = '</body>'\n",
    "\n",
    "def convertToHtml(data_dict):\n",
    "    text = data_dict[\"text\"]\n",
    "    smoking_data = data_dict['medical_indicator_words']\n",
    "    smoking_dicts = sorted(smoking_data, key=lambda k: k['begin'], reverse=True)\n",
    "    \n",
    "    for word in smoking_dicts:\n",
    "        text = text.replace(word['word'], open_tag + word['word'] + close_tag)\n",
    "        \n",
    "    return {'paper_id': data_dict['paper_id'], 'paragraph_index': data_dict['paragraph_index'], 'html': open_html_tag + open_body_tag + text + close_body_tag + close_html_tag}"
   ]
  },
  {
   "cell_type": "code",
   "execution_count": 76,
   "metadata": {},
   "outputs": [],
   "source": [
    "html_list = []\n",
    "for paragraph in data:\n",
    "    html_list.append(convertToHtml(paragraph))"
   ]
  },
  {
   "cell_type": "code",
   "execution_count": 77,
   "metadata": {},
   "outputs": [
    {
     "name": "stdout",
     "output_type": "stream",
     "text": [
      "{'paper_id': '0a6ce864e9696cf6bc21a64bb8b1abda99d4744a', 'paragraph_index': 11, 'html': '<html><body><b>obesity</b> can reduce immune cell functionality, induce gut microbiome/virome imbalance, inflammatory cytokine phenotype and increase antiviral, antimicrobial and anticoagulant resistance as depicted in Fig. 1 . in over<b>weight</b> children, anti-tetanus igg antibodies were significantly lower compared to normal <b>weight</b> controls due to the chronic low grade inflammation expressed by the higher levels of il-6 (84). Similarly, researchers reported in a 2019 study that reduction or elimination of food in over<b>weight</b>/obese adults can lead to a decreased igg concentration over time (85) .</body></html>'}\n"
     ]
    }
   ],
   "source": [
    "print(html_list[0])"
   ]
  },
  {
   "cell_type": "code",
   "execution_count": 80,
   "metadata": {},
   "outputs": [],
   "source": [
    "for html in html_list:\n",
    "    file = os.path.join(tagged_html_output_path, html['paper_id'] + 'p' + str(html['paragraph_index']) + '.html')\n",
    "    with open(file, 'w') as html_file:\n",
    "        html_file.write(html['html'])"
   ]
  },
  {
   "cell_type": "code",
   "execution_count": null,
   "metadata": {},
   "outputs": [],
   "source": []
  }
 ],
 "metadata": {
  "kernelspec": {
   "display_name": "PyCharm (PythonVisUtils)",
   "language": "python",
   "name": "pycharm-c1e3706f"
  },
  "language_info": {
   "codemirror_mode": {
    "name": "ipython",
    "version": 3
   },
   "file_extension": ".py",
   "mimetype": "text/x-python",
   "name": "python",
   "nbconvert_exporter": "python",
   "pygments_lexer": "ipython3",
   "version": "3.7.3"
  },
  "pycharm": {
   "stem_cell": {
    "cell_type": "raw",
    "metadata": {
     "collapsed": false
    },
    "source": []
   }
  }
 },
 "nbformat": 4,
 "nbformat_minor": 4
}
