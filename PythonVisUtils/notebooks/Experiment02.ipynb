{
 "cells": [
  {
   "cell_type": "markdown",
   "source": [
    "# Data Import\n",
    "Test importing json data to pandas data frames."
   ],
   "metadata": {
    "collapsed": false
   }
  },
  {
   "cell_type": "code",
   "execution_count": 12,
   "outputs": [
    {
     "name": "stdout",
     "text": [
      "<module 'pandas._version' from '/Users/matthiastitze/Library/Python/3.7/lib/python/site-packages/pandas/_version.py'>\n"
     ],
     "output_type": "stream"
    }
   ],
   "source": [
    "import os\n",
    "import pandas as pd\n",
    "print(pd._version)"
   ],
   "metadata": {
    "collapsed": false,
    "pycharm": {
     "name": "#%%\n",
     "is_executing": false
    }
   }
  },
  {
   "cell_type": "code",
   "execution_count": 14,
   "outputs": [],
   "source": [
    "data_base_path = '../../data'"
   ],
   "metadata": {
    "collapsed": false,
    "pycharm": {
     "name": "#%%\n",
     "is_executing": false
    }
   }
  },
  {
   "cell_type": "code",
   "execution_count": 15,
   "outputs": [
    {
     "data": {
      "text/plain": "                                                  text  paragraph_index  \\\n0    4. The role of ubiquitination and the proteins...                0   \n1    6. As MERS-CoV infection and proteins are cons...                1   \n2    8. In the model figure and in the discussion, ...                2   \n3    Minor Issues 1. Figure 1B . The whole cell lys...                3   \n4    Reviewer #2: Remarks to the Author: Gassen et ...                4   \n..                                                 ...              ...   \n155  Response: It appears to us that the reviewer's...              155   \n156  Specific comment 4: \"The addition of Figure S2...              156   \n157  We agree that the western blot did not fully r...              157   \n158  Minor point 4: \"Regardless of the availability...              158   \n159  We agree on the usefulness of this experiment....              159   \n\n                                     paper_id  \n0    0a0afb5dc02afa81689e0e75afe2f9a21ce09e70  \n1    0a0afb5dc02afa81689e0e75afe2f9a21ce09e70  \n2    0a0afb5dc02afa81689e0e75afe2f9a21ce09e70  \n3    0a0afb5dc02afa81689e0e75afe2f9a21ce09e70  \n4    0a0afb5dc02afa81689e0e75afe2f9a21ce09e70  \n..                                        ...  \n155  0a0afb5dc02afa81689e0e75afe2f9a21ce09e70  \n156  0a0afb5dc02afa81689e0e75afe2f9a21ce09e70  \n157  0a0afb5dc02afa81689e0e75afe2f9a21ce09e70  \n158  0a0afb5dc02afa81689e0e75afe2f9a21ce09e70  \n159  0a0afb5dc02afa81689e0e75afe2f9a21ce09e70  \n\n[160 rows x 3 columns]",
      "text/html": "<div>\n<style scoped>\n    .dataframe tbody tr th:only-of-type {\n        vertical-align: middle;\n    }\n\n    .dataframe tbody tr th {\n        vertical-align: top;\n    }\n\n    .dataframe thead th {\n        text-align: right;\n    }\n</style>\n<table border=\"1\" class=\"dataframe\">\n  <thead>\n    <tr style=\"text-align: right;\">\n      <th></th>\n      <th>text</th>\n      <th>paragraph_index</th>\n      <th>paper_id</th>\n    </tr>\n  </thead>\n  <tbody>\n    <tr>\n      <th>0</th>\n      <td>4. The role of ubiquitination and the proteins...</td>\n      <td>0</td>\n      <td>0a0afb5dc02afa81689e0e75afe2f9a21ce09e70</td>\n    </tr>\n    <tr>\n      <th>1</th>\n      <td>6. As MERS-CoV infection and proteins are cons...</td>\n      <td>1</td>\n      <td>0a0afb5dc02afa81689e0e75afe2f9a21ce09e70</td>\n    </tr>\n    <tr>\n      <th>2</th>\n      <td>8. In the model figure and in the discussion, ...</td>\n      <td>2</td>\n      <td>0a0afb5dc02afa81689e0e75afe2f9a21ce09e70</td>\n    </tr>\n    <tr>\n      <th>3</th>\n      <td>Minor Issues 1. Figure 1B . The whole cell lys...</td>\n      <td>3</td>\n      <td>0a0afb5dc02afa81689e0e75afe2f9a21ce09e70</td>\n    </tr>\n    <tr>\n      <th>4</th>\n      <td>Reviewer #2: Remarks to the Author: Gassen et ...</td>\n      <td>4</td>\n      <td>0a0afb5dc02afa81689e0e75afe2f9a21ce09e70</td>\n    </tr>\n    <tr>\n      <th>...</th>\n      <td>...</td>\n      <td>...</td>\n      <td>...</td>\n    </tr>\n    <tr>\n      <th>155</th>\n      <td>Response: It appears to us that the reviewer's...</td>\n      <td>155</td>\n      <td>0a0afb5dc02afa81689e0e75afe2f9a21ce09e70</td>\n    </tr>\n    <tr>\n      <th>156</th>\n      <td>Specific comment 4: \"The addition of Figure S2...</td>\n      <td>156</td>\n      <td>0a0afb5dc02afa81689e0e75afe2f9a21ce09e70</td>\n    </tr>\n    <tr>\n      <th>157</th>\n      <td>We agree that the western blot did not fully r...</td>\n      <td>157</td>\n      <td>0a0afb5dc02afa81689e0e75afe2f9a21ce09e70</td>\n    </tr>\n    <tr>\n      <th>158</th>\n      <td>Minor point 4: \"Regardless of the availability...</td>\n      <td>158</td>\n      <td>0a0afb5dc02afa81689e0e75afe2f9a21ce09e70</td>\n    </tr>\n    <tr>\n      <th>159</th>\n      <td>We agree on the usefulness of this experiment....</td>\n      <td>159</td>\n      <td>0a0afb5dc02afa81689e0e75afe2f9a21ce09e70</td>\n    </tr>\n  </tbody>\n</table>\n<p>160 rows × 3 columns</p>\n</div>"
     },
     "metadata": {},
     "output_type": "execute_result",
     "execution_count": 15
    }
   ],
   "source": [
    "json_name = '0a0afb5dc02afa81689e0e75afe2f9a21ce09e70.json'\n",
    "folder_name = 'cleanedBodyContent'\n",
    "json_path = os.path.join(data_base_path, folder_name, json_name)\n",
    "df = pd.read_json(json_path)\n",
    "df"
   ],
   "metadata": {
    "collapsed": false,
    "pycharm": {
     "name": "#%%\n",
     "is_executing": false
    }
   }
  },
  {
   "cell_type": "code",
   "execution_count": null,
   "outputs": [],
   "source": [],
   "metadata": {
    "collapsed": false,
    "pycharm": {
     "name": "#%%\n"
    }
   }
  },
  {
   "cell_type": "code",
   "execution_count": null,
   "outputs": [],
   "source": [
    "\n"
   ],
   "metadata": {
    "collapsed": false,
    "pycharm": {
     "name": "#%%\n"
    }
   }
  }
 ],
 "metadata": {
  "kernelspec": {
   "name": "pycharm-c1e3706f",
   "language": "python",
   "display_name": "PyCharm (PythonVisUtils)"
  },
  "language_info": {
   "codemirror_mode": {
    "name": "ipython",
    "version": 2
   },
   "file_extension": ".py",
   "mimetype": "text/x-python",
   "name": "python",
   "nbconvert_exporter": "python",
   "pygments_lexer": "ipython2",
   "version": "2.7.6"
  },
  "pycharm": {
   "stem_cell": {
    "cell_type": "raw",
    "source": [],
    "metadata": {
     "collapsed": false
    }
   }
  }
 },
 "nbformat": 4,
 "nbformat_minor": 0
}